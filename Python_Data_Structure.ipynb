{
  "nbformat": 4,
  "nbformat_minor": 0,
  "metadata": {
    "colab": {
      "provenance": []
    },
    "kernelspec": {
      "name": "python3",
      "display_name": "Python 3"
    },
    "language_info": {
      "name": "python"
    }
  },
  "cells": [
    {
      "cell_type": "markdown",
      "source": [
        "#   ---------------Python Data structure---------------\n",
        "\n",
        "1. What are data structures, and why are they important?\n",
        "  -  The way of organization and storing data so that it can accessed and manipulated efficiency.\n",
        "  - it is important because they help make it easier to work with data  and imporve the effienciency of code.\n",
        "\n",
        "2. Explain the difference between mutable and immutable data types with examples.\n",
        "  - Mutable data type: A mutable data type is one whose values can be change.\n",
        "  - Example of mutablr data types: list.\n",
        "\n",
        "  - Immutable data type: A immutable data types is one whose value can not be change.\n",
        "  - Example of immutable data types: string\n",
        "3.  What are the main differences between lists and tuples in Python?\n",
        "\n",
        "  - List : 1) List is mutable , 2) can be more consume more memory than tuple , 3) Use squre bracket [] , 4) it can used for insertion and deletion options.\n",
        "\n",
        "  - Tuple: 1) Tuple is immutable, 2) Use less memory then list , 3) Use round bracket () , 4) Can only read  operation ,such as accessing elements.\n",
        "\n",
        "4. Describe how dictionaries store data.\n",
        "\n",
        "  -  Dictionary are used to store data values in key : value pairs . A dictionary is a collection which is ordered , changeable and do not allow duplicates.\n",
        "\n",
        "5. Why might you use a set instead of a list in Python?\n",
        "\n",
        " - Because sets cannot have multiple occurence of the same elements. it makes sets highly useful to efficiency remove duplicates values from a list or tuple and to perform common math operationas like unions and intersection.\n",
        "\n",
        "6. What is a string in Python, and how is it different from a list?\n",
        "\n",
        " - String is sequence of character, represent and manipulate textual data.\n",
        " - 1)The lists are mutable sequences while strings ae immutable, 2) String store single type of elements all characters while list can store elements belonging to different types.\n",
        "\n",
        "7. How do tuples ensure data integrity in Python?\n",
        "\n",
        " - Tuples are immutable to ensure that their contents remain constant throughout their life cycle, guarateeing data integrity and reliability .\n",
        "\n",
        "8. What is a hash table, and how does it relate to dictionaries in Python?\n",
        "\n",
        "  - A hash table is a data structure that stores data in an associative manner. This means that each data element is associated with a unique key, and the hash table uses a hash function to compute the index (location) in the table where the data element should be stored. This allows for efficient retrieval of data elements based on their keys.\n",
        "  \n",
        "  - In Python, dictionaries are implemented using hash tables. When you create a dictionary, Python internally creates a hash table to store the key-value pairs. When you access a value in a dictionary using its key, Python uses the hash function to compute the index of the value in the hash table, allowing for fast retrieval.\n",
        "\n",
        "\n",
        "9. Can lists contain different data types in Python?\n",
        "\n",
        "  - Yes, lists in Python can contain different data types.Unlike arrays in some other programming languages, Python lists are designed to be heterogeneous, meaning they can store elements of different data types within the same list. This flexibility is one of the key features of Python lists.\n",
        "\n",
        "\n",
        "10. Explain why strings are immutable in Python?\n",
        "\n",
        " - Reasons for string immutability in Python:\n",
        "\n",
        ">Security: Immutability makes strings safer to use as dictionary keys or in other security-sensitive contexts. If strings were mutable, a malicious actor could potentially change the value of a key, leading to unexpected behavior or security vulnerabilities.\n",
        "\n",
        ">Performance: Immutability allows for various performance optimizations in Python. For example, strings can be cached and reused, leading to faster execution times.\n",
        "\n",
        ">Hashing: Immutability is essential for hashing, which is used in dictionaries and other data structures. Since strings are immutable, their hash values remain constant, ensuring consistent and predictable behavior.\n",
        "\n",
        ">Memory Management: Immutable objects can be shared and copied efficiently, leading to better memory management in Python.\n",
        "\n",
        "\n",
        "11. What advantages do dictionaries offer over lists for certain tasks?\n",
        "\n",
        "  - Efficient Lookup: Dictionaries offer fast and efficient lookup of values based on their keys. This is because dictionaries use a hash table implementation, which allows for constant-time average case complexity for key lookups. In contrast, searching for an element in a list requires iterating through the list, resulting in linear time complexity.\n",
        "\n",
        "  - Data Organization: Dictionaries are well-suited for organizing data with meaningful relationships between keys and values. For example, you can use a dictionary to represent a student's record, where the keys could be \"name,\" \"age,\" and \"grade,\" and the values would be the corresponding information. Lists, on the other hand, are more suitable for storing ordered collections of items.\n",
        "\n",
        " - Flexibility: Dictionaries allow you to store values of different data types, including other dictionaries and lists. This flexibility makes them ideal for representing complex data structures. While lists can also contain different data types, dictionaries offer a more structured and organized way to store and access data.\n",
        "\n",
        "  - Key-Based Access: Dictionaries provide key-based access to values, making it easy to retrieve specific data elements. With lists, you need to know the index of the element to access it.\n",
        "\n",
        "  - Uniqueness of Keys: Dictionaries enforce the uniqueness of keys, ensuring that there are no duplicate keys. This can be helpful for maintaining data integrity and avoiding conflicts. Lists, on the other hand, allow duplicate elements.\n",
        "\n",
        "12. Describe a scenario where using a tuple would be preferable over a list.\n",
        "\n",
        "  - Scenario:\n",
        "\n",
        " Creating a program to represent the coordinates of a point in 2D space. These coordinates (x, y) should remain fixed once assigned.\n",
        "\n",
        " example:\n",
        "      # Representing coordinates as a tuple\n",
        "coordinates = (3, 5)  # x = 3, y = 5\n",
        "\n",
        "\n",
        "coordinates[0] = 4  # TypeError: 'tuple' object does not support item assignment\n",
        "\n",
        "13. How do sets handle duplicate values in Python?\n",
        "\n",
        " - Sets in Python are designed to automatically handle duplicate values by simply ignoring them.\n",
        "\n",
        "Reasoning:\n",
        "\n",
        "Underlying Implementation: Sets are implemented using a hash table data structure, which efficiently stores and retrieves unique elements. When you add an element to a set, Python uses a hash function to determine its position in the hash table. If an element with the same hash value already exists (indicating a duplicate), the new element is discarded.\n",
        "\n",
        "\n",
        "Uniqueness Property: The fundamental property of sets is that they only store unique elements. This inherent characteristic ensures that duplicates are automatically eliminated during set creation or modification.\n",
        "\n",
        "14. How does the “in” keyword work differently for lists and dictionaries?\n",
        "\n",
        " - Lists:\n",
        "\n",
        "a)Functionality: The in keyword checks for membership in a list. It iterates through each element of the list and returns True if the specified element is found, otherwise False.\n",
        "\n",
        "b)Target: It checks for the presence of the entire element within the list.\n",
        "\n",
        "c)Example:\n",
        "  my_list = [1, 2, 3, 4, 5]\n",
        "\n",
        "\n",
        "print(3 in my_list)  # Output: True\n",
        "\n",
        "\n",
        "print(6 in my_list)  # Output: False\n",
        "\n",
        "\n",
        " - Dictionaries:\n",
        "\n",
        "a)Functionality: The in keyword checks for the presence of a key in the dictionary.\n",
        "\n",
        "b)Target: It checks only the keys, not the values.\n",
        "\n",
        "c)Example:\n",
        "\n",
        "my_dict = {'a': 1, 'b': 2, 'c': 3}\n",
        "print('b' in my_dict)  # Output: True\n",
        "print('d' in my_dict)  # Output: False\n",
        "print(2 in my_dict)  # Output: False\n",
        "\n",
        "15. Can you modify the elements of a tuple? Explain why or why not.\n",
        "\n",
        "  - No,  cannot modify the elements of a tuple in Python. This is because tuples are immutable, which means their elements cannot be changed after the tuple is created.\n",
        "\n",
        "  Reasoning:\n",
        "\n",
        "a)Data Integrity: Immutability ensures that the data within a tuple remains constant throughout its lifecycle. This is crucial for preserving data integrity and preventing unintended modifications.\n",
        "\n",
        "b)Hashing: Tuples are often used as keys in dictionaries. Immutability guarantees that the hash value of a tuple remains the same, enabling efficient dictionary operations.\n",
        "\n",
        "c)Memory Optimization: Immutable objects like tuples can be shared and copied efficiently, leading to better memory management.\n",
        "\n",
        "example:\n",
        "\n",
        "my_tuple = (1, 2, 3)\n",
        "my_tuple[0] = 4  # Raises TypeError: 'tuple' object does not support item assignment\n",
        "\n",
        "16. What is a nested dictionary, and give an example of its use case?\n",
        "\n",
        "  -  A nested dictionary is simply a dictionary that contains other dictionaries as values. This allows you to create a hierarchical structure to represent complex data relationships.\n",
        "\n",
        "  - Example use case:\n",
        "\n",
        "  students = {\n",
        "    \"Alice\": {\"age\": 16, \"grade\": 10, \"courses\": [\"Math\", \"Science\"]},\n",
        "    \"Bob\": {\"age\": 17, \"grade\": 11, \"courses\": [\"English\", \"History\"]},\n",
        "    \"Charlie\": {\"age\": 15, \"grade\": 9, \"courses\": [\"Art\", \"Music\"]},\n",
        "}\n",
        "\n",
        "\n",
        "print(students[\"Alice\"][\"age\"])  \n",
        "print(students[\"Bob\"][\"courses\"]\n",
        "\n",
        "17. Describe the time complexity of accessing elements in a dictionary.\n",
        "\n",
        "  - Time Complexity: O(1) on average\n",
        "\n",
        "Reasoning:\n",
        "\n",
        "Dictionaries in Python are implemented using hash tables. When you access an element using its key, the following steps occur:\n",
        "\n",
        " a)Hashing: The key is passed through a hash function, which generates a unique hash value.\n",
        "Indexing: This hash value is used to calculate the\n",
        " b)index (location) in the hash table where the corresponding value is stored.\n",
        "c)Retrieval: The value is retrieved from the calculated index.\n",
        "In most cases, these steps take a constant amount of time, regardless of the size of the dictionary. This is why dictionary access is said to have O(1) average time complexity. It means that the time it takes to access an element remains roughly the same, even if the dictionary contains a large number of elements.\n",
        "\n",
        "Worst-Case Scenario: O(n)\n",
        "\n",
        "In rare cases, if there are many collisions (multiple keys hashing to the same index), the time complexity can degrade to O(n), where n is the number of elements in the dictionary. However, Python's dictionary implementation employs techniques like collision resolution to minimize such scenarios.\n",
        "\n",
        "\n",
        "18.In what situations are lists preferred over dictionaries?\n",
        "\n",
        " - 1. When Order Matters:\n",
        "\n",
        " Reasoning: Lists maintain the order of elements as they are inserted. This is crucial when the sequence of items is important for your task. Dictionaries, on the other hand, do not guarantee any specific order of key-value pairs.\n",
        "\n",
        " Example: Storing a sequence of events, steps in a process, or a timeline of data.\n",
        "\n",
        "\n",
        "  2. When You Need to Access Elements by Index:\n",
        "\n",
        " - Reasoning: Lists allow efficient access to elements using their index (position). This is useful when you need to retrieve elements based on their numerical position in the list. Dictionaries, while offering fast key-based access, don't inherently support index-based retrieval.\n",
        "\n",
        "Example: Processing data where elements need to be accessed sequentially, or when working with numerical data that needs to be indexed.\n",
        "\n",
        "19. Why are dictionaries considered unordered, and how does that affect data retrieval?\n",
        "\n",
        " - Dictionaries in Python are implemented using hash tables. Hash tables are data structures that store key-value pairs using a hashing function. This function maps keys to indices in the table, allowing for efficient retrieval.\n",
        "\n",
        " - No Guaranteed Order: You cannot rely on the order in which elements were added to a dictionary when iterating over its keys or values. The order might vary depending on the implementation details of the hash table.\n",
        "\n",
        "Index-Based Access: You cannot access elements in a dictionary using their index (position), as you would with a list. Instead, you must use the keys to retrieve the corresponding values.\n",
        "\n",
        "Order-Dependent Operations: Operations that depend on the order of elements, such as slicing or retrieving the first/last element, are not applicable to dictionaries.\n",
        "\n",
        "EXAMPLE:\n",
        "my_dict = {'a': 1, 'b': 2, 'c': 3}\n",
        "\n",
        "\n",
        "print(my_dict)  \n",
        "\n",
        "print(my_dict['b'])\n",
        "print(my_dict[0])  \n",
        "\n",
        "20. Explain the difference between a list and a dictionary in terms of data retrieval.\n",
        "\n",
        " - Lists:\n",
        "\n",
        "Data Retrieval Method: Lists primarily use index-based retrieval. You access elements by their numerical position within the list, starting from 0 for the first element.\n",
        "\n",
        "Time Complexity: Accessing elements in a list has a time complexity of O(1), meaning it takes roughly the same amount of time regardless of the list's size.\n",
        "\n",
        "EXAMPLE:\n",
        "my_list = [10, 20, 30, 40]\n",
        "  print(my_list[2])  # Output: 30 (accessing element at index 2)\n",
        "\n",
        "  - Dictionaries:\n",
        "\n",
        "Data Retrieval Method: Dictionaries use key-based retrieval. You access elements by providing the corresponding key, which acts as a unique identifier for the value.\n",
        "\n",
        "Time Complexity: Retrieving elements in a dictionary typically has an average time complexity of O(1), similar to lists. However, in worst-case scenarios (e.g., hash collisions), it can degrade to O(n), where n is the number of elements.\n",
        "\n",
        "Example:\n",
        "\n",
        "my_dict = {'name': 'Alice', 'age': 30, 'city': 'New York'}\n",
        "  print(my_dict['age'])\n",
        "\n",
        "  "
      ],
      "metadata": {
        "id": "ziI5t2UQUg8i"
      }
    },
    {
      "cell_type": "code",
      "source": [
        "#1.Write a code to create a string with your name and print it.\n",
        "my_name = \"ASHU\"\n",
        "print(my_name)"
      ],
      "metadata": {
        "colab": {
          "base_uri": "https://localhost:8080/"
        },
        "id": "5ouni7wVYvTC",
        "outputId": "5def3dfe-6d02-41c2-dbe4-3a48eca981be"
      },
      "execution_count": null,
      "outputs": [
        {
          "output_type": "stream",
          "name": "stdout",
          "text": [
            "ASHU\n"
          ]
        }
      ]
    },
    {
      "cell_type": "code",
      "source": [
        "#2.Write a code to find the length of the string \"Hello World\".\n",
        "string = \"Hello World\"\n",
        "length = len(string)\n",
        "print(length)"
      ],
      "metadata": {
        "colab": {
          "base_uri": "https://localhost:8080/"
        },
        "id": "m1ZUQellY0tO",
        "outputId": "8a27bc15-d895-498f-ab2e-aceab67aac45"
      },
      "execution_count": null,
      "outputs": [
        {
          "output_type": "stream",
          "name": "stdout",
          "text": [
            "11\n"
          ]
        }
      ]
    },
    {
      "cell_type": "code",
      "source": [
        "#3.Write a code to slice the first 3 characters from the string \"Python Programming\".\n",
        "string = \"Python Programming\"\n",
        "sliced_string = string[:3]\n",
        "print(sliced_string)\n"
      ],
      "metadata": {
        "colab": {
          "base_uri": "https://localhost:8080/"
        },
        "id": "wi5Asc6SY5hq",
        "outputId": "af552e9b-c1e8-41c6-b6e7-2316c4ee36b9"
      },
      "execution_count": null,
      "outputs": [
        {
          "output_type": "stream",
          "name": "stdout",
          "text": [
            "Pyt\n"
          ]
        }
      ]
    },
    {
      "cell_type": "code",
      "source": [
        "#4.Write a code to convert the string \"hello\" to uppercase.\n",
        "string = \"hello\"\n",
        "uppercase_string = string.upper()\n",
        "print(uppercase_string)\n",
        "\n"
      ],
      "metadata": {
        "colab": {
          "base_uri": "https://localhost:8080/"
        },
        "id": "MXd3EVVrY-nn",
        "outputId": "dfe5a226-8cf9-4777-d7d2-7d7bdbcad298"
      },
      "execution_count": null,
      "outputs": [
        {
          "output_type": "stream",
          "name": "stdout",
          "text": [
            "HELLO\n"
          ]
        }
      ]
    },
    {
      "cell_type": "code",
      "source": [
        "#5.Write a code to replace the word \"apple\" with \"orange\" in the string \"I like apple\".\n",
        "string = \"I like apple\"\n",
        "new_string = string.replace(\"apple\", \"orange\")\n",
        "print(new_string)\n"
      ],
      "metadata": {
        "colab": {
          "base_uri": "https://localhost:8080/"
        },
        "id": "HMwCDMqrZDdP",
        "outputId": "8743fdd0-8127-46b2-fbdc-d89dadb85e21"
      },
      "execution_count": null,
      "outputs": [
        {
          "output_type": "stream",
          "name": "stdout",
          "text": [
            "I like orange\n"
          ]
        }
      ]
    },
    {
      "cell_type": "code",
      "source": [
        "#6.Write a code to create a list with numbers 1 to 5 and print it.\n",
        "my_list = list(range(1, 6))\n",
        "print(my_list)"
      ],
      "metadata": {
        "colab": {
          "base_uri": "https://localhost:8080/"
        },
        "id": "GEjtD_OmZIk_",
        "outputId": "1de02021-7be0-4dda-e365-9b2cc4dd475c"
      },
      "execution_count": null,
      "outputs": [
        {
          "output_type": "stream",
          "name": "stdout",
          "text": [
            "[1, 2, 3, 4, 5]\n"
          ]
        }
      ]
    },
    {
      "cell_type": "code",
      "source": [
        "#7.Write a code to append the number 10 to the list [1, 2, 3, 4].\n",
        "my_list = [1, 2, 3, 4]\n",
        "my_list.append(10)\n",
        "print(my_list)"
      ],
      "metadata": {
        "colab": {
          "base_uri": "https://localhost:8080/"
        },
        "id": "VGIvI5yyZMdO",
        "outputId": "f3a6aeed-4b77-4e5d-ffe7-15b08285a2ce"
      },
      "execution_count": null,
      "outputs": [
        {
          "output_type": "stream",
          "name": "stdout",
          "text": [
            "[1, 2, 3, 4, 10]\n"
          ]
        }
      ]
    },
    {
      "cell_type": "code",
      "source": [
        "#8.Write a code to remove the number 3 from the list [1, 2, 3, 4, 5].\n",
        "my_list = [1, 2, 3, 4, 5]\n",
        "my_list.remove(3)\n",
        "print(my_list)"
      ],
      "metadata": {
        "colab": {
          "base_uri": "https://localhost:8080/"
        },
        "id": "nw6u3BBLZRot",
        "outputId": "79df6cba-9e41-4e9c-af67-983c8e7deadc"
      },
      "execution_count": null,
      "outputs": [
        {
          "output_type": "stream",
          "name": "stdout",
          "text": [
            "[1, 2, 4, 5]\n"
          ]
        }
      ]
    },
    {
      "cell_type": "code",
      "source": [
        "#9.Write a code to access the second element in the list ['a', 'b', 'c', 'd'].\n",
        "my_list = ['a', 'b', 'c', 'd']\n",
        "second_element = my_list[1]\n",
        "print(second_element)"
      ],
      "metadata": {
        "colab": {
          "base_uri": "https://localhost:8080/"
        },
        "id": "o0MUvxxuZZCc",
        "outputId": "64e48a73-e56b-4a73-d9aa-6bafb5deadc5"
      },
      "execution_count": null,
      "outputs": [
        {
          "output_type": "stream",
          "name": "stdout",
          "text": [
            "b\n"
          ]
        }
      ]
    },
    {
      "cell_type": "code",
      "source": [
        "#10.Write a code to reverse the list [10, 20, 30, 40, 50].\n",
        "my_list = [10, 20, 30, 40, 50]\n",
        "my_list.reverse()\n",
        "print(my_list)\n",
        "\n"
      ],
      "metadata": {
        "colab": {
          "base_uri": "https://localhost:8080/"
        },
        "id": "6B2K9uWWZi_0",
        "outputId": "f6f8a649-ece8-43df-9730-08218b82cbd8"
      },
      "execution_count": null,
      "outputs": [
        {
          "output_type": "stream",
          "name": "stdout",
          "text": [
            "[50, 40, 30, 20, 10]\n"
          ]
        }
      ]
    },
    {
      "cell_type": "code",
      "source": [
        "#11.Write a code to create a tuple with the elements 100, 200, 300 and print it.\n",
        "my_tuple = (100, 200, 300)\n",
        "print(my_tuple)\n",
        "\n"
      ],
      "metadata": {
        "colab": {
          "base_uri": "https://localhost:8080/"
        },
        "id": "EhW8O2T2ZpIy",
        "outputId": "3d916ffa-f334-4a1b-9d0f-61e8a88335f5"
      },
      "execution_count": null,
      "outputs": [
        {
          "output_type": "stream",
          "name": "stdout",
          "text": [
            "(100, 200, 300)\n"
          ]
        }
      ]
    },
    {
      "cell_type": "code",
      "source": [
        "#12.Write a code to access the second-to-last element of the tuple ('red', 'green', 'blue', 'yellow').\n",
        "my_tuple = ('red', 'green', 'blue', 'yellow')\n",
        "second_to_last_element = my_tuple[-2]\n",
        "print(second_to_last_element)"
      ],
      "metadata": {
        "colab": {
          "base_uri": "https://localhost:8080/"
        },
        "id": "b6w7OHtNb07M",
        "outputId": "853a07bf-304a-402b-dd8e-f86536824a81"
      },
      "execution_count": null,
      "outputs": [
        {
          "output_type": "stream",
          "name": "stdout",
          "text": [
            "blue\n"
          ]
        }
      ]
    },
    {
      "cell_type": "code",
      "source": [
        "#13.Write a code to find the minimum number in the tuple (10, 20, 5, 15).\n",
        "my_tuple = (10, 20, 5, 15)\n",
        "minimum_number = min(my_tuple)\n",
        "print(minimum_number)\n"
      ],
      "metadata": {
        "colab": {
          "base_uri": "https://localhost:8080/"
        },
        "id": "YlKowFR2b_Z4",
        "outputId": "0dc7daa6-25cb-4b94-88a4-ad19f490abb5"
      },
      "execution_count": null,
      "outputs": [
        {
          "output_type": "stream",
          "name": "stdout",
          "text": [
            "5\n"
          ]
        }
      ]
    },
    {
      "cell_type": "code",
      "source": [
        "#14.Write a code to find the index of the element \"cat\" in the tuple ('dog', 'cat', 'rabbit').\n",
        "my_tuple = ('dog', 'cat', 'rabbit')\n",
        "index_of_cat = my_tuple.index('cat')\n",
        "print(index_of_cat)"
      ],
      "metadata": {
        "colab": {
          "base_uri": "https://localhost:8080/"
        },
        "id": "CR9Ov1TycGLY",
        "outputId": "e72323eb-46e6-4b83-9e40-14ca9c76a508"
      },
      "execution_count": null,
      "outputs": [
        {
          "output_type": "stream",
          "name": "stdout",
          "text": [
            "1\n"
          ]
        }
      ]
    },
    {
      "cell_type": "code",
      "source": [
        "#15.Write a code to create a tuple containing three different fruits and check if \"kiwi\" is in it.\n",
        "fruits_tuple = (\"apple\", \"banana\", \"orange\")\n",
        "is_kiwi_in_tuple = \"kiwi\" in fruits_tuple\n",
        "print(is_kiwi_in_tuple)"
      ],
      "metadata": {
        "colab": {
          "base_uri": "https://localhost:8080/"
        },
        "id": "1G123Bt6cNgw",
        "outputId": "35e4a00c-fa7d-4389-98a2-a6bf41c60867"
      },
      "execution_count": null,
      "outputs": [
        {
          "output_type": "stream",
          "name": "stdout",
          "text": [
            "False\n"
          ]
        }
      ]
    },
    {
      "cell_type": "code",
      "source": [
        "#16.Write a code to create a set with the elements 'a', 'b', 'c' and print it.\n",
        "my_set = {'a', 'b', 'c'}\n",
        "print(my_set)\n",
        "\n",
        "\n"
      ],
      "metadata": {
        "colab": {
          "base_uri": "https://localhost:8080/"
        },
        "id": "rHXqjtwRcUoV",
        "outputId": "9471368f-dbf7-47d5-9fda-8e3bbf9283e8"
      },
      "execution_count": null,
      "outputs": [
        {
          "output_type": "stream",
          "name": "stdout",
          "text": [
            "{'c', 'a', 'b'}\n"
          ]
        }
      ]
    },
    {
      "cell_type": "code",
      "source": [
        "#17.Write a code to clear all elements from the set {1, 2, 3, 4, 5}.\n",
        "my_set = {1, 2, 3, 4, 5}\n",
        "my_set.clear()\n",
        "print(my_set)"
      ],
      "metadata": {
        "colab": {
          "base_uri": "https://localhost:8080/"
        },
        "id": "OPHCMe1wcj_d",
        "outputId": "8662ee20-c648-4313-e81f-5c503d55b250"
      },
      "execution_count": null,
      "outputs": [
        {
          "output_type": "stream",
          "name": "stdout",
          "text": [
            "set()\n"
          ]
        }
      ]
    },
    {
      "cell_type": "code",
      "source": [
        "#18.Write a code to remove the element 4 from the set {1, 2, 3, 4}.\n",
        "my_set = {1, 2, 3, 4}\n",
        "my_set.remove(4)\n",
        "print(my_set)"
      ],
      "metadata": {
        "colab": {
          "base_uri": "https://localhost:8080/"
        },
        "id": "wnq6WezPctOH",
        "outputId": "1978cb2f-5745-4b09-bcd6-c1e315cdd800"
      },
      "execution_count": null,
      "outputs": [
        {
          "output_type": "stream",
          "name": "stdout",
          "text": [
            "{1, 2, 3}\n"
          ]
        }
      ]
    },
    {
      "cell_type": "code",
      "source": [
        "#19.Write a code to find the union of two sets {1, 2, 3} and {3, 4, 5}.\n",
        "set1 = {1, 2, 3}\n",
        "set2 = {3, 4, 5}\n",
        "union_set = set1.union(set2)\n",
        "print(union_set)"
      ],
      "metadata": {
        "colab": {
          "base_uri": "https://localhost:8080/"
        },
        "id": "i2GfQ_EHcygo",
        "outputId": "3a0a9e9c-34b2-4036-d872-d2ed2eab7e3d"
      },
      "execution_count": null,
      "outputs": [
        {
          "output_type": "stream",
          "name": "stdout",
          "text": [
            "{1, 2, 3, 4, 5}\n"
          ]
        }
      ]
    },
    {
      "cell_type": "code",
      "source": [
        "#20.Write a code to find the intersection of two sets {1, 2, 3} and {2, 3, 4}.\n",
        "set1 = {1, 2, 3}\n",
        "set2 = {2, 3, 4}\n",
        "intersection_set = set1.intersection(set2)\n",
        "print(intersection_set)\n",
        "\n"
      ],
      "metadata": {
        "colab": {
          "base_uri": "https://localhost:8080/"
        },
        "id": "vVNkpnCmc5nC",
        "outputId": "cbd83a09-127c-4d88-f727-ea4bb52bc10b"
      },
      "execution_count": null,
      "outputs": [
        {
          "output_type": "stream",
          "name": "stdout",
          "text": [
            "{2, 3}\n"
          ]
        }
      ]
    },
    {
      "cell_type": "code",
      "source": [
        "#21. Write a code to create a dictionary with the keys \"name\", \"age\", and \"city\", and print it.\n",
        "my_dict = {\n",
        "    \"name\": \"John\",\n",
        "    \"age\": 25,\n",
        "    \"city\": \"New York\"\n",
        "}\n",
        "print(my_dict)"
      ],
      "metadata": {
        "colab": {
          "base_uri": "https://localhost:8080/"
        },
        "id": "ZVrKBk0GdGBZ",
        "outputId": "bcefad81-2133-4089-f2df-ea19cb1bccf0"
      },
      "execution_count": null,
      "outputs": [
        {
          "output_type": "stream",
          "name": "stdout",
          "text": [
            "{'name': 'John', 'age': 25, 'city': 'New York'}\n"
          ]
        }
      ]
    },
    {
      "cell_type": "code",
      "source": [
        "#22.Write a code to add a new key-value pair \"country\": \"USA\" to the dictionary {'name': 'John', 'age': 25}.\n",
        "my_dict = {'name': 'John', 'age': 25}\n",
        "my_dict[\"country\"] = \"USA\"\n",
        "print(my_dict)"
      ],
      "metadata": {
        "colab": {
          "base_uri": "https://localhost:8080/"
        },
        "id": "oJZvYni3dPkI",
        "outputId": "995f7cf1-3f88-4212-a3f4-2196f60ce1cc"
      },
      "execution_count": null,
      "outputs": [
        {
          "output_type": "stream",
          "name": "stdout",
          "text": [
            "{'name': 'John', 'age': 25, 'country': 'USA'}\n"
          ]
        }
      ]
    },
    {
      "cell_type": "code",
      "source": [
        "#23.Write a code to access the value associated with the key \"name\" in the dictionary {'name': 'Alice', 'age': 30}.\n",
        "my_dict = {'name': 'Alice', 'age': 30}\n",
        "name_value = my_dict[\"name\"]\n",
        "print(name_value)"
      ],
      "metadata": {
        "colab": {
          "base_uri": "https://localhost:8080/"
        },
        "id": "HkPjGKWkdW_P",
        "outputId": "c43452a6-fb26-4f5a-d1a2-76050d030ed6"
      },
      "execution_count": null,
      "outputs": [
        {
          "output_type": "stream",
          "name": "stdout",
          "text": [
            "Alice\n"
          ]
        }
      ]
    },
    {
      "cell_type": "code",
      "source": [
        "#24.Write a code to remove the key \"age\" from the dictionary {'name': 'Bob', 'age': 22, 'city': 'New York'}.\n",
        "my_dict = {'name': 'Bob', 'age': 22, 'city': 'New York'}\n",
        "del my_dict[\"age\"]\n",
        "print(my_dict)\n"
      ],
      "metadata": {
        "colab": {
          "base_uri": "https://localhost:8080/"
        },
        "id": "-hG1rH3GddXq",
        "outputId": "b64b784e-81fb-47c6-a0b1-221f0b043d72"
      },
      "execution_count": null,
      "outputs": [
        {
          "output_type": "stream",
          "name": "stdout",
          "text": [
            "{'name': 'Bob', 'city': 'New York'}\n"
          ]
        }
      ]
    },
    {
      "cell_type": "code",
      "source": [
        "#25.Write a code to check if the key \"city\" exists in the dictionary {'name': 'Alice', 'city': 'Paris'}.\n",
        "my_dict = {'name': 'Alice', 'city': 'Paris'}\n",
        "city_exists = \"city\" in my_dict\n",
        "print(city_exists)"
      ],
      "metadata": {
        "colab": {
          "base_uri": "https://localhost:8080/"
        },
        "id": "Ww2H2M8tdkyk",
        "outputId": "e28fad71-5474-43e1-9ac7-d5568e2c0a44"
      },
      "execution_count": null,
      "outputs": [
        {
          "output_type": "stream",
          "name": "stdout",
          "text": [
            "True\n"
          ]
        }
      ]
    },
    {
      "cell_type": "code",
      "source": [
        "#26.Write a code to create a list, a tuple, and a dictionary, and print them all.\n",
        "# Create a list\n",
        "my_list = [1, 2, 3, 'a', 'b', 'c']\n",
        "\n",
        "# Create a tuple\n",
        "my_tuple = (10, 20, 30, 'x', 'y', 'z')\n",
        "\n",
        "# Create a dictionary\n",
        "my_dict = {'name': 'Alice', 'age': 30, 'city': 'New York'}\n",
        "\n",
        "# Print all three data structures\n",
        "print(\"List:\", my_list)\n",
        "print(\"Tuple:\", my_tuple)\n",
        "print(\"Dictionary:\", my_dict)\n"
      ],
      "metadata": {
        "colab": {
          "base_uri": "https://localhost:8080/"
        },
        "id": "TJtrB425dsu0",
        "outputId": "674c719a-6562-4c22-aea1-09627d705984"
      },
      "execution_count": null,
      "outputs": [
        {
          "output_type": "stream",
          "name": "stdout",
          "text": [
            "List: [1, 2, 3, 'a', 'b', 'c']\n",
            "Tuple: (10, 20, 30, 'x', 'y', 'z')\n",
            "Dictionary: {'name': 'Alice', 'age': 30, 'city': 'New York'}\n"
          ]
        }
      ]
    },
    {
      "cell_type": "code",
      "source": [
        "#27.Write a code to create a list of 5 random numbers between 1 and 100, sort it in ascending order, and print the result.(replaced).\n",
        "import random\n",
        "\n",
        "# Generate 5 random numbers between 1 and 100\n",
        "random_numbers = random.sample(range(1, 101), 5)\n",
        "\n",
        "# Sort the list in ascending order\n",
        "random_numbers.sort()\n",
        "\n",
        "# Print the sorted list\n",
        "print(random_numbers)\n"
      ],
      "metadata": {
        "colab": {
          "base_uri": "https://localhost:8080/"
        },
        "id": "1jufsUaPdyxg",
        "outputId": "385e26c1-9516-4196-ea4e-01ce55cb39b0"
      },
      "execution_count": null,
      "outputs": [
        {
          "output_type": "stream",
          "name": "stdout",
          "text": [
            "[17, 30, 53, 63, 67]\n"
          ]
        }
      ]
    },
    {
      "cell_type": "code",
      "source": [
        "#28. Write a code to create a list with strings and print the element at the third index.\n",
        "my_list = [\"apple\", \"banana\", \"orange\", \"grape\", \"kiwi\"]\n",
        "third_element = my_list[2]  # Accessing the element at index 2 (third element)\n",
        "print(third_element)"
      ],
      "metadata": {
        "colab": {
          "base_uri": "https://localhost:8080/"
        },
        "id": "Ryj1d04FeYzC",
        "outputId": "2ce9e42f-f75b-4410-de3f-bf1ebac78c99"
      },
      "execution_count": null,
      "outputs": [
        {
          "output_type": "stream",
          "name": "stdout",
          "text": [
            "orange\n"
          ]
        }
      ]
    },
    {
      "cell_type": "code",
      "source": [
        "#29.Write a code to combine two dictionaries into one and print the result.\n",
        "dict1 = {'a': 1, 'b': 2}\n",
        "dict2 = {'c': 3, 'd': 4}\n",
        "\n",
        "# Method 1: Using the update() method\n",
        "dict1.update(dict2)\n",
        "print(dict1)  # Output: {'a': 1, 'b': 2, 'c': 3, 'd': 4}\n",
        "\n",
        "\n",
        "# Method 2: Using the ** operator (Python 3.5+)\n",
        "combined_dict = {**dict1, **dict2}\n",
        "print(combined_dict)\n"
      ],
      "metadata": {
        "colab": {
          "base_uri": "https://localhost:8080/"
        },
        "id": "2_IPLBX4elzR",
        "outputId": "01f0cddc-2226-45f0-c080-86a5b2c3eb1a"
      },
      "execution_count": null,
      "outputs": [
        {
          "output_type": "stream",
          "name": "stdout",
          "text": [
            "{'a': 1, 'b': 2, 'c': 3, 'd': 4}\n",
            "{'a': 1, 'b': 2, 'c': 3, 'd': 4}\n"
          ]
        }
      ]
    },
    {
      "cell_type": "code",
      "source": [
        "#30. Write a code to convert a list of strings into a set.\n",
        "string_list = [\"apple\", \"banana\", \"orange\", \"apple\", \"banana\"]\n",
        "string_set = set(string_list)\n",
        "print(string_set)"
      ],
      "metadata": {
        "colab": {
          "base_uri": "https://localhost:8080/"
        },
        "id": "6gptC4Vae-aG",
        "outputId": "c383cb57-7959-4f1d-a5b0-c333d64b6d3b"
      },
      "execution_count": null,
      "outputs": [
        {
          "output_type": "stream",
          "name": "stdout",
          "text": [
            "{'banana', 'apple', 'orange'}\n"
          ]
        }
      ]
    }
  ]
}